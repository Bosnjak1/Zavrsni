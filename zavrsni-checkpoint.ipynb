{
 "cells": [
  {
   "cell_type": "code",
   "execution_count": 63,
   "id": "ba9051e7",
   "metadata": {},
   "outputs": [
    {
     "name": "stdout",
     "output_type": "stream",
     "text": [
      "Num GPUs awailable:  1\n"
     ]
    }
   ],
   "source": [
    "import numpy\n",
    "from keras.models import Sequential\n",
    "from keras.layers import Dense, Dropout, Flatten, BatchNormalization, Activation\n",
    "from keras.layers.convolutional import Conv2D, MaxPooling2D\n",
    "from keras.constraints import maxnorm\n",
    "from keras.utils import np_utils\n",
    "from keras.optimizers import SGD\n",
    "from keras import backend as K \n",
    "K.set_image_data_format('channels_last')\n",
    "from keras.datasets import cifar10\n",
    "import tensorflow as tf\n",
    "print(\"Num GPUs awailable: \", len(tf.config.experimental.list_physical_devices(\"GPU\")))\n"
   ]
  },
  {
   "cell_type": "code",
   "execution_count": 98,
   "id": "5606e7c6",
   "metadata": {},
   "outputs": [
    {
     "name": "stdout",
     "output_type": "stream",
     "text": [
      "Model: \"sequential_5\"\n",
      "_________________________________________________________________\n",
      "Layer (type)                 Output Shape              Param #   \n",
      "=================================================================\n",
      "conv2d_23 (Conv2D)           (None, 32, 32, 32)        896       \n",
      "_________________________________________________________________\n",
      "activation_35 (Activation)   (None, 32, 32, 32)        0         \n",
      "_________________________________________________________________\n",
      "dropout_26 (Dropout)         (None, 32, 32, 32)        0         \n",
      "_________________________________________________________________\n",
      "batch_normalization_29 (Batc (None, 32, 32, 32)        128       \n",
      "_________________________________________________________________\n",
      "conv2d_24 (Conv2D)           (None, 32, 32, 32)        9248      \n",
      "_________________________________________________________________\n",
      "activation_36 (Activation)   (None, 32, 32, 32)        0         \n",
      "_________________________________________________________________\n",
      "max_pooling2d_12 (MaxPooling (None, 16, 16, 32)        0         \n",
      "_________________________________________________________________\n",
      "batch_normalization_30 (Batc (None, 16, 16, 32)        128       \n",
      "_________________________________________________________________\n",
      "conv2d_25 (Conv2D)           (None, 16, 16, 64)        18496     \n",
      "_________________________________________________________________\n",
      "activation_37 (Activation)   (None, 16, 16, 64)        0         \n",
      "_________________________________________________________________\n",
      "dropout_27 (Dropout)         (None, 16, 16, 64)        0         \n",
      "_________________________________________________________________\n",
      "batch_normalization_31 (Batc (None, 16, 16, 64)        256       \n",
      "_________________________________________________________________\n",
      "conv2d_26 (Conv2D)           (None, 16, 16, 64)        36928     \n",
      "_________________________________________________________________\n",
      "activation_38 (Activation)   (None, 16, 16, 64)        0         \n",
      "_________________________________________________________________\n",
      "max_pooling2d_13 (MaxPooling (None, 8, 8, 64)          0         \n",
      "_________________________________________________________________\n",
      "batch_normalization_32 (Batc (None, 8, 8, 64)          256       \n",
      "_________________________________________________________________\n",
      "conv2d_27 (Conv2D)           (None, 8, 8, 128)         73856     \n",
      "_________________________________________________________________\n",
      "activation_39 (Activation)   (None, 8, 8, 128)         0         \n",
      "_________________________________________________________________\n",
      "dropout_28 (Dropout)         (None, 8, 8, 128)         0         \n",
      "_________________________________________________________________\n",
      "batch_normalization_33 (Batc (None, 8, 8, 128)         512       \n",
      "_________________________________________________________________\n",
      "conv2d_28 (Conv2D)           (None, 8, 8, 128)         147584    \n",
      "_________________________________________________________________\n",
      "activation_40 (Activation)   (None, 8, 8, 128)         0         \n",
      "_________________________________________________________________\n",
      "max_pooling2d_14 (MaxPooling (None, 4, 4, 128)         0         \n",
      "_________________________________________________________________\n",
      "flatten_5 (Flatten)          (None, 2048)              0         \n",
      "_________________________________________________________________\n",
      "dropout_29 (Dropout)         (None, 2048)              0         \n",
      "_________________________________________________________________\n",
      "batch_normalization_34 (Batc (None, 2048)              8192      \n",
      "_________________________________________________________________\n",
      "dense_13 (Dense)             (None, 1024)              2098176   \n",
      "_________________________________________________________________\n",
      "activation_41 (Activation)   (None, 1024)              0         \n",
      "_________________________________________________________________\n",
      "dropout_30 (Dropout)         (None, 1024)              0         \n",
      "_________________________________________________________________\n",
      "batch_normalization_35 (Batc (None, 1024)              4096      \n",
      "_________________________________________________________________\n",
      "dense_14 (Dense)             (None, 512)               524800    \n",
      "_________________________________________________________________\n",
      "activation_42 (Activation)   (None, 512)               0         \n",
      "_________________________________________________________________\n",
      "dropout_31 (Dropout)         (None, 512)               0         \n",
      "_________________________________________________________________\n",
      "batch_normalization_36 (Batc (None, 512)               2048      \n",
      "_________________________________________________________________\n",
      "dense_15 (Dense)             (None, 10)                5130      \n",
      "_________________________________________________________________\n",
      "activation_43 (Activation)   (None, 10)                0         \n",
      "=================================================================\n",
      "Total params: 2,930,730\n",
      "Trainable params: 2,922,922\n",
      "Non-trainable params: 7,808\n",
      "_________________________________________________________________\n",
      "None\n"
     ]
    }
   ],
   "source": [
    "(X_train, y_train), (X_test, y_test) = cifar10.load_data()\n",
    "\n",
    "X_train = X_train.astype('float32')\n",
    "X_test = X_test.astype('float32')\n",
    "X_train = X_train / 255.0\n",
    "X_test = X_test / 255.0\n",
    "\n",
    "y_train = np_utils.to_categorical(y_train)\n",
    "y_test = np_utils.to_categorical(y_test)\n",
    "class_num = y_test.shape[1]\n",
    "\n",
    "model = Sequential()\n",
    "\n",
    "model.add(Conv2D(32, (3, 3), input_shape=X_train.shape[1:], padding='same'))\n",
    "model.add(Activation('relu'))\n",
    "model.add(Dropout(0.2))\n",
    "model.add(BatchNormalization())\n",
    "\n",
    "model.add(Conv2D(32, (3, 3), padding='same')) \n",
    "model.add(Activation('relu'))\n",
    "model.add(MaxPooling2D(pool_size=(2, 2)))\n",
    "model.add(BatchNormalization())\n",
    "\n",
    "model.add(Conv2D(64, (3, 3), padding='same'))\n",
    "model.add(Activation('relu'))\n",
    "model.add(Dropout(0.2))\n",
    "model.add(BatchNormalization())\n",
    "\n",
    "model.add(Conv2D(64, (3, 3), padding='same'))\n",
    "model.add(Activation('relu'))\n",
    "model.add(MaxPooling2D(pool_size=(2, 2)))\n",
    "model.add(BatchNormalization())\n",
    "    \n",
    "model.add(Conv2D(128, (3, 3), padding='same'))\n",
    "model.add(Activation('relu'))\n",
    "model.add(Dropout(0.2)) \n",
    "model.add(BatchNormalization())\n",
    "\n",
    "model.add(Conv2D(128, (3, 3), padding='same'))\n",
    "model.add(Activation('relu'))\n",
    "model.add(MaxPooling2D(pool_size=(2, 2))) \n",
    "model.add(Flatten()) \n",
    "model.add(Dropout(0.2))\n",
    "model.add(BatchNormalization())\n",
    "\n",
    "model.add(Dense(1024, kernel_constraint=maxnorm(3))) \n",
    "model.add(Activation('relu'))\n",
    "model.add(Dropout(0.2)) \n",
    "model.add(BatchNormalization())\n",
    "    \n",
    "model.add(Dense(512, kernel_constraint=maxnorm(3)))\n",
    "model.add(Activation('relu'))\n",
    "model.add(Dropout(0.2))\n",
    "model.add(BatchNormalization())\n",
    "\n",
    "model.add(Dense(class_num))\n",
    "model.add(Activation('softmax'))\n",
    "\n",
    "print(model.summary())"
   ]
  },
  {
   "cell_type": "code",
   "execution_count": 99,
   "id": "9ab6e5ca",
   "metadata": {},
   "outputs": [],
   "source": [
    "optimizer = 'adam'\n",
    "\n",
    "model.compile(loss='categorical_crossentropy', optimizer=optimizer, metrics=['accuracy'])"
   ]
  },
  {
   "cell_type": "code",
   "execution_count": 100,
   "id": "79fc23a4",
   "metadata": {},
   "outputs": [
    {
     "name": "stdout",
     "output_type": "stream",
     "text": [
      "Train on 50000 samples, validate on 10000 samples\n",
      "Epoch 1/50\n",
      "50000/50000 [==============================] - 56s 1ms/step - loss: 1.5021 - accuracy: 0.4730 - val_loss: 1.3340 - val_accuracy: 0.5526\n",
      "Epoch 2/50\n",
      "50000/50000 [==============================] - 61s 1ms/step - loss: 0.9893 - accuracy: 0.6513 - val_loss: 0.8733 - val_accuracy: 0.6924\n",
      "Epoch 3/50\n",
      "50000/50000 [==============================] - 65s 1ms/step - loss: 0.8256 - accuracy: 0.7116 - val_loss: 0.7131 - val_accuracy: 0.7531\n",
      "Epoch 4/50\n",
      "50000/50000 [==============================] - 56s 1ms/step - loss: 0.7148 - accuracy: 0.7508 - val_loss: 0.7005 - val_accuracy: 0.7590\n",
      "Epoch 5/50\n",
      "50000/50000 [==============================] - 61s 1ms/step - loss: 0.6431 - accuracy: 0.7752 - val_loss: 0.5939 - val_accuracy: 0.8000\n",
      "Epoch 6/50\n",
      "50000/50000 [==============================] - 66s 1ms/step - loss: 0.5897 - accuracy: 0.7938 - val_loss: 0.5988 - val_accuracy: 0.7970\n",
      "Epoch 7/50\n",
      "50000/50000 [==============================] - 62s 1ms/step - loss: 0.5516 - accuracy: 0.8096 - val_loss: 0.6188 - val_accuracy: 0.7890\n",
      "Epoch 8/50\n",
      "50000/50000 [==============================] - 64s 1ms/step - loss: 0.5155 - accuracy: 0.8204 - val_loss: 0.5670 - val_accuracy: 0.8078\n",
      "Epoch 9/50\n",
      "50000/50000 [==============================] - 64s 1ms/step - loss: 0.4874 - accuracy: 0.8300 - val_loss: 0.6397 - val_accuracy: 0.7789\n",
      "Epoch 10/50\n",
      "50000/50000 [==============================] - 64s 1ms/step - loss: 0.4626 - accuracy: 0.8374 - val_loss: 0.5722 - val_accuracy: 0.8020\n",
      "Epoch 11/50\n",
      "50000/50000 [==============================] - 64s 1ms/step - loss: 0.4412 - accuracy: 0.8466 - val_loss: 0.5160 - val_accuracy: 0.8218\n",
      "Epoch 12/50\n",
      "50000/50000 [==============================] - 64s 1ms/step - loss: 0.4248 - accuracy: 0.8518 - val_loss: 0.5361 - val_accuracy: 0.8199\n",
      "Epoch 13/50\n",
      "50000/50000 [==============================] - 64s 1ms/step - loss: 0.4129 - accuracy: 0.8553 - val_loss: 0.5056 - val_accuracy: 0.8306\n",
      "Epoch 14/50\n",
      "50000/50000 [==============================] - 64s 1ms/step - loss: 0.4017 - accuracy: 0.8571 - val_loss: 0.5245 - val_accuracy: 0.8191\n",
      "Epoch 15/50\n",
      "50000/50000 [==============================] - 60s 1ms/step - loss: 0.3850 - accuracy: 0.8655 - val_loss: 0.4848 - val_accuracy: 0.8395\n",
      "Epoch 16/50\n",
      "50000/50000 [==============================] - 59s 1ms/step - loss: 0.3771 - accuracy: 0.8664 - val_loss: 0.5007 - val_accuracy: 0.8313\n",
      "Epoch 17/50\n",
      "50000/50000 [==============================] - 59s 1ms/step - loss: 0.3649 - accuracy: 0.8717 - val_loss: 0.4722 - val_accuracy: 0.8388\n",
      "Epoch 18/50\n",
      "50000/50000 [==============================] - 59s 1ms/step - loss: 0.3567 - accuracy: 0.8746 - val_loss: 0.4813 - val_accuracy: 0.8399\n",
      "Epoch 19/50\n",
      "50000/50000 [==============================] - 59s 1ms/step - loss: 0.3467 - accuracy: 0.8779 - val_loss: 0.5266 - val_accuracy: 0.8231\n",
      "Epoch 20/50\n",
      "50000/50000 [==============================] - 59s 1ms/step - loss: 0.3421 - accuracy: 0.8797 - val_loss: 0.4874 - val_accuracy: 0.8377\n",
      "Epoch 21/50\n",
      "50000/50000 [==============================] - 58s 1ms/step - loss: 0.3306 - accuracy: 0.8834 - val_loss: 0.4719 - val_accuracy: 0.8409\n",
      "Epoch 22/50\n",
      "50000/50000 [==============================] - 58s 1ms/step - loss: 0.3268 - accuracy: 0.8859 - val_loss: 0.4620 - val_accuracy: 0.8433\n",
      "Epoch 23/50\n",
      "50000/50000 [==============================] - 60s 1ms/step - loss: 0.3262 - accuracy: 0.8862 - val_loss: 0.4691 - val_accuracy: 0.8449\n",
      "Epoch 24/50\n",
      "50000/50000 [==============================] - 59s 1ms/step - loss: 0.3113 - accuracy: 0.8909 - val_loss: 0.4689 - val_accuracy: 0.8432\n",
      "Epoch 25/50\n",
      "50000/50000 [==============================] - 59s 1ms/step - loss: 0.3091 - accuracy: 0.8898 - val_loss: 0.4514 - val_accuracy: 0.8498\n",
      "Epoch 26/50\n",
      "50000/50000 [==============================] - 58s 1ms/step - loss: 0.2965 - accuracy: 0.8947 - val_loss: 0.4563 - val_accuracy: 0.8467\n",
      "Epoch 27/50\n",
      "50000/50000 [==============================] - 57s 1ms/step - loss: 0.2971 - accuracy: 0.8943 - val_loss: 0.4614 - val_accuracy: 0.8472\n",
      "Epoch 28/50\n",
      "50000/50000 [==============================] - 59s 1ms/step - loss: 0.2918 - accuracy: 0.8977 - val_loss: 0.4901 - val_accuracy: 0.8394\n",
      "Epoch 29/50\n",
      "50000/50000 [==============================] - 58s 1ms/step - loss: 0.2835 - accuracy: 0.8999 - val_loss: 0.4615 - val_accuracy: 0.8460\n",
      "Epoch 30/50\n",
      "50000/50000 [==============================] - 59s 1ms/step - loss: 0.2827 - accuracy: 0.9003 - val_loss: 0.4618 - val_accuracy: 0.8457\n",
      "Epoch 31/50\n",
      "50000/50000 [==============================] - 59s 1ms/step - loss: 0.2879 - accuracy: 0.8981 - val_loss: 0.4588 - val_accuracy: 0.8508\n",
      "Epoch 32/50\n",
      "50000/50000 [==============================] - 58s 1ms/step - loss: 0.2788 - accuracy: 0.9007 - val_loss: 0.4621 - val_accuracy: 0.8493\n",
      "Epoch 33/50\n",
      "50000/50000 [==============================] - 60s 1ms/step - loss: 0.2695 - accuracy: 0.9057 - val_loss: 0.4514 - val_accuracy: 0.8541\n",
      "Epoch 34/50\n",
      "50000/50000 [==============================] - 61s 1ms/step - loss: 0.2679 - accuracy: 0.9057 - val_loss: 0.4484 - val_accuracy: 0.8541\n",
      "Epoch 35/50\n",
      "50000/50000 [==============================] - 58s 1ms/step - loss: 0.2674 - accuracy: 0.9058 - val_loss: 0.4572 - val_accuracy: 0.8472\n",
      "Epoch 36/50\n",
      "50000/50000 [==============================] - 59s 1ms/step - loss: 0.2618 - accuracy: 0.9068 - val_loss: 0.4737 - val_accuracy: 0.8417\n",
      "Epoch 37/50\n",
      "50000/50000 [==============================] - 61s 1ms/step - loss: 0.2637 - accuracy: 0.9061 - val_loss: 0.4530 - val_accuracy: 0.8487\n",
      "Epoch 38/50\n",
      "50000/50000 [==============================] - 62s 1ms/step - loss: 0.2583 - accuracy: 0.9086 - val_loss: 0.4495 - val_accuracy: 0.8565\n",
      "Epoch 39/50\n",
      "50000/50000 [==============================] - 62s 1ms/step - loss: 0.2561 - accuracy: 0.9092 - val_loss: 0.4570 - val_accuracy: 0.8521\n",
      "Epoch 40/50\n",
      "50000/50000 [==============================] - 61s 1ms/step - loss: 0.2496 - accuracy: 0.9121 - val_loss: 0.4363 - val_accuracy: 0.8557\n",
      "Epoch 41/50\n",
      "50000/50000 [==============================] - 66s 1ms/step - loss: 0.2443 - accuracy: 0.9142 - val_loss: 0.4727 - val_accuracy: 0.8457\n",
      "Epoch 42/50\n",
      "50000/50000 [==============================] - 65s 1ms/step - loss: 0.2492 - accuracy: 0.9127 - val_loss: 0.4419 - val_accuracy: 0.8609\n",
      "Epoch 43/50\n",
      "50000/50000 [==============================] - 65s 1ms/step - loss: 0.2420 - accuracy: 0.9145 - val_loss: 0.4444 - val_accuracy: 0.8547\n",
      "Epoch 44/50\n",
      "50000/50000 [==============================] - 64s 1ms/step - loss: 0.2423 - accuracy: 0.9140 - val_loss: 0.4630 - val_accuracy: 0.8490\n",
      "Epoch 45/50\n",
      "50000/50000 [==============================] - 60s 1ms/step - loss: 0.2322 - accuracy: 0.9189 - val_loss: 0.4538 - val_accuracy: 0.8567\n",
      "Epoch 46/50\n",
      "50000/50000 [==============================] - 56s 1ms/step - loss: 0.2346 - accuracy: 0.9174 - val_loss: 0.4550 - val_accuracy: 0.8558\n",
      "Epoch 47/50\n",
      "50000/50000 [==============================] - 56s 1ms/step - loss: 0.2307 - accuracy: 0.9179 - val_loss: 0.4590 - val_accuracy: 0.8526\n",
      "Epoch 48/50\n",
      "50000/50000 [==============================] - 62s 1ms/step - loss: 0.2246 - accuracy: 0.9213 - val_loss: 0.5251 - val_accuracy: 0.8344\n",
      "Epoch 49/50\n",
      "50000/50000 [==============================] - 65s 1ms/step - loss: 0.2254 - accuracy: 0.9203 - val_loss: 0.4562 - val_accuracy: 0.8554\n",
      "Epoch 50/50\n",
      "50000/50000 [==============================] - 64s 1ms/step - loss: 0.2242 - accuracy: 0.9211 - val_loss: 0.4689 - val_accuracy: 0.8485\n"
     ]
    },
    {
     "data": {
      "text/plain": [
       "<keras.callbacks.callbacks.History at 0x21df6109a88>"
      ]
     },
     "execution_count": 100,
     "metadata": {},
     "output_type": "execute_result"
    }
   ],
   "source": [
    "epochs = 50\n",
    "model.fit(X_train, y_train, validation_data=(X_test, y_test), epochs=epochs, batch_size=32)"
   ]
  },
  {
   "cell_type": "code",
   "execution_count": 101,
   "id": "39d36acf",
   "metadata": {},
   "outputs": [
    {
     "name": "stdout",
     "output_type": "stream",
     "text": [
      "Accuracy: 84.85%\n"
     ]
    }
   ],
   "source": [
    "scores = model.evaluate(X_test, y_test, verbose=0)\n",
    "print(\"Accuracy: %.2f%%\" % (scores[1]*100))"
   ]
  },
  {
   "cell_type": "code",
   "execution_count": 102,
   "id": "8af80bc1",
   "metadata": {},
   "outputs": [
    {
     "name": "stdout",
     "output_type": "stream",
     "text": [
      "Saved model to disk\n"
     ]
    }
   ],
   "source": [
    "model_json = model.to_json()\n",
    "with open(\"model.json\", \"w\") as json_file:\n",
    "    json_file.write(model_json)\n",
    "# serialize weights to HDF5\n",
    "model.save_weights(\"model.h5\")\n",
    "print(\"Saved model to disk\")\n",
    "\n"
   ]
  },
  {
   "cell_type": "code",
   "execution_count": 103,
   "id": "57d259b0",
   "metadata": {},
   "outputs": [],
   "source": [
    "from keras.models import load_model \n",
    "model.save('project_model.h5')"
   ]
  },
  {
   "cell_type": "code",
   "execution_count": 80,
   "id": "704b8731",
   "metadata": {},
   "outputs": [],
   "source": [
    "from keras.models import load_model \n",
    "model = load_model('project_model.h5')"
   ]
  },
  {
   "cell_type": "code",
   "execution_count": 150,
   "id": "eaeb55ea",
   "metadata": {},
   "outputs": [],
   "source": [
    "import numpy as np \n",
    "from keras.preprocessing import image\n",
    "\n",
    "test_image1 =image.load_img('kamion.jpg',target_size =(32,32))"
   ]
  },
  {
   "cell_type": "code",
   "execution_count": 151,
   "id": "17b8b708",
   "metadata": {},
   "outputs": [
    {
     "name": "stdout",
     "output_type": "stream",
     "text": [
      "[[0. 0. 0. 0. 0. 0. 0. 0. 0. 1.]]\n",
      "Truck\n"
     ]
    },
    {
     "data": {
      "text/plain": [
       "<matplotlib.image.AxesImage at 0x21df270cf08>"
      ]
     },
     "execution_count": 151,
     "metadata": {},
     "output_type": "execute_result"
    },
    {
     "data": {
      "image/png": "[encoded data removed]",
      "text/plain": [
       "<Figure size 432x288 with 1 Axes>"
      ]
     },
     "metadata": {
      "needs_background": "light"
     },
     "output_type": "display_data"
    }
   ],
   "source": [
    "test_image =image.img_to_array(test_image1) \n",
    "test_image =np.expand_dims(test_image, axis =0) \n",
    "result = model.predict(test_image) \n",
    "print(result) \n",
    "\n",
    "if result[0][0]==1: \n",
    "    print(\"Aeroplane\") \n",
    "elif result[0][1]==1: \n",
    "    print('Automobile') \n",
    "elif result[0][2]==1: \n",
    "    print('Bird') \n",
    "elif result[0][3]==1: \n",
    "    print('Cat') \n",
    "elif result[0][4]==1: \n",
    "    print('Deer') \n",
    "elif result[0][5]==1: \n",
    "    print('Dog') \n",
    "elif result[0][6]==1: \n",
    "    print('Frog') \n",
    "elif result[0][7]==1: \n",
    "    print('Horse') \n",
    "elif result[0][8]==1: \n",
    "    print('Ship') \n",
    "elif result[0][9]==1: \n",
    "    print('Truck') \n",
    "else: \n",
    "    print('Error')\n",
    "    \n",
    "%matplotlib inline \n",
    "import matplotlib.pyplot as plt \n",
    "plt.imshow(test_image1)"
   ]
  },
  {
   "cell_type": "code",
   "execution_count": null,
   "id": "a1d37646",
   "metadata": {},
   "outputs": [],
   "source": []
  }
 ],
 "metadata": {
  "kernelspec": {
   "display_name": "Python 3 (ipykernel)",
   "language": "python",
   "name": "python3"
  },
  "language_info": {
   "codemirror_mode": {
    "name": "ipython",
    "version": 3
   },
   "file_extension": ".py",
   "mimetype": "text/x-python",
   "name": "python",
   "nbconvert_exporter": "python",
   "pygments_lexer": "ipython3",
   "version": "3.7.9"
  }
 },
 "nbformat": 4,
 "nbformat_minor": 5
}
