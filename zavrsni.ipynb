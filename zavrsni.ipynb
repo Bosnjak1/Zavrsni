{
  "cells": [
    {
      "cell_type": "code",
      "execution_count": 1,
      "id": "ba9051e7",
      "metadata": {
        "id": "ba9051e7"
      },
      "outputs": [],
      "source": [
        "import os\n",
        "import torch\n",
        "import torchvision\n",
        "import tarfile\n",
        "import torch.nn as nn\n",
        "import numpy as np\n",
        "import torch.nn.functional as func\n",
        "from torchvision.datasets.utils import download_url\n",
        "from torchvision.datasets import ImageFolder\n",
        "from torch.utils.data import DataLoader\n",
        "import torchvision.transforms as trans"
      ]
    },
    {
      "cell_type": "code",
      "execution_count": 2,
      "id": "f387e599",
      "metadata": {
        "colab": {
          "base_uri": "https://localhost:8080/",
          "height": 101,
          "referenced_widgets": [
            "9ffd5b20ff4a4f45a74e9ba90c1f2b0c",
            "8f0e69df36b4415aaaf9a9378f94245b",
            "094675347ae140618df1c38246dbd6a3",
            "5a8491393b89414a91f879c09b83fa62",
            "e7185bb406324d9f83c107ab34dda3ab",
            "878dc8db8cb64a869a89c21325bc8253",
            "ab5440ef0cae4fd99a533a919f87141e",
            "5f9ac807ca024de0864f5b5b2357c9e0",
            "6eec6776ee524f34bdfe2b72b70fe53a",
            "066ffe035e764b9496e552500b8ab52d",
            "3edfe6abc0c24bfd9197d8a2d5a2982c"
          ]
        },
        "id": "f387e599",
        "outputId": "51e5f026-67e3-4d7a-b1cc-58046698bf73"
      },
      "outputs": [
        {
          "output_type": "stream",
          "name": "stdout",
          "text": [
            "Downloading https://s3.amazonaws.com/fast-ai-imageclas/cifar10.tgz to ./cifar10.tgz\n"
          ]
        },
        {
          "output_type": "display_data",
          "data": {
            "text/plain": [
              "  0%|          | 0/135107811 [00:00<?, ?it/s]"
            ],
            "application/vnd.jupyter.widget-view+json": {
              "version_major": 2,
              "version_minor": 0,
              "model_id": "9ffd5b20ff4a4f45a74e9ba90c1f2b0c"
            }
          },
          "metadata": {}
        },
        {
          "output_type": "stream",
          "name": "stdout",
          "text": [
            "['train', 'test']\n",
            "['frog', 'airplane', 'bird', 'truck', 'dog', 'deer', 'horse', 'automobile', 'cat', 'ship']\n"
          ]
        }
      ],
      "source": [
        " \n",
        "download_url(\"https://s3.amazonaws.com/fast-ai-imageclas/cifar10.tgz\", '.')\n",
        "\n",
        "with tarfile.open('./cifar10.tgz', 'r:gz') as tar:\n",
        "    tar.extractall(path='./data')\n",
        "    \n",
        "print(os.listdir('./data/cifar10'))\n",
        "classes = os.listdir('./data/cifar10' + \"/train\")\n",
        "print(classes)"
      ]
    },
    {
      "cell_type": "code",
      "execution_count": 3,
      "id": "2b39523d",
      "metadata": {
        "id": "2b39523d"
      },
      "outputs": [],
      "source": [
        "trainIF = ImageFolder('./data/cifar10/train', trans.Compose([trans.RandomCrop(32, padding=4, padding_mode='reflect'),\n",
        "                         trans.AutoAugment(policy=trans.AutoAugmentPolicy.CIFAR10),\n",
        "                         trans.RandomHorizontalFlip(),\n",
        "                         trans.ToTensor(), \n",
        "                         trans.Normalize((0.4914, 0.4822, 0.4465), (0.2023, 0.1994, 0.2010),inplace=True)]))\n",
        "validIF = ImageFolder('./data/cifar10/test', trans.Compose([trans.ToTensor(), trans.Normalize((0.4914, 0.4822, 0.4465), (0.2023, 0.1994, 0.2010))]))"
      ]
    },
    {
      "cell_type": "code",
      "execution_count": 4,
      "id": "20c8bfb8",
      "metadata": {
        "colab": {
          "base_uri": "https://localhost:8080/"
        },
        "id": "20c8bfb8",
        "outputId": "7eb82399-e01e-4d38-9dd3-94e8d094d852"
      },
      "outputs": [
        {
          "output_type": "execute_result",
          "data": {
            "text/plain": [
              "device(type='cuda')"
            ]
          },
          "metadata": {},
          "execution_count": 4
        }
      ],
      "source": [
        "def dohvati_uredaj():\n",
        "    if torch.cuda.is_available():\n",
        "        return torch.device('cuda')\n",
        "    else:\n",
        "        return torch.device('cpu')\n",
        "    \n",
        "def na_uredaj(podatci, device):\n",
        "    if isinstance(podatci, (list,tuple)):\n",
        "        return [na_uredaj(i, device) for i in podatci]\n",
        "    return podatci.to(device, non_blocking=True)\n",
        "\n",
        "class DeviceDataLoader():\n",
        "    def __init__(self, dl, uredaj):\n",
        "        self.dl = dl\n",
        "        self.uredaj = uredaj\n",
        "        \n",
        "    def __iter__(self):\n",
        "        for i in self.dl: \n",
        "            yield na_uredaj(i, self.uredaj)\n",
        "\n",
        "    def __len__(self):\n",
        "        return len(self.dl)\n",
        "    \n",
        "uredaj = dohvati_uredaj()\n",
        "uredaj"
      ]
    },
    {
      "cell_type": "code",
      "execution_count": 5,
      "id": "9a7ba32f",
      "metadata": {
        "id": "9a7ba32f"
      },
      "outputs": [],
      "source": [
        "batchSize = 400\n",
        "trainDL = DataLoader(trainIF, batchSize, shuffle=True, num_workers = 2, pin_memory=True)\n",
        "validDL = DataLoader(validIF, batchSize*2, num_workers = 2, pin_memory=True)"
      ]
    },
    {
      "cell_type": "code",
      "execution_count": 6,
      "id": "34bc2fe6",
      "metadata": {
        "id": "34bc2fe6"
      },
      "outputs": [],
      "source": [
        "trainDL = DeviceDataLoader(trainDL, uredaj)\n",
        "validDL = DeviceDataLoader(validDL, uredaj)"
      ]
    },
    {
      "cell_type": "code",
      "execution_count": 7,
      "id": "3027b39a",
      "metadata": {
        "colab": {
          "base_uri": "https://localhost:8080/"
        },
        "id": "3027b39a",
        "outputId": "d858d8de-8079-4a78-85f7-d6fd71ca4707"
      },
      "outputs": [
        {
          "output_type": "stream",
          "name": "stdout",
          "text": [
            "torch.Size([400, 3, 32, 32])\n"
          ]
        }
      ],
      "source": [
        "class SimpleResidualBlock(nn.Module):\n",
        "    def __init__(self):\n",
        "        super().__init__()\n",
        "        channelsIn = 3\n",
        "        channelsOut = 3\n",
        "        self.conv1 = nn.Conv2d(channelsIn, channelsOut, 3, 1, 1)\n",
        "        self.relu1 = nn.ReLU()\n",
        "        self.conv2 = nn.Conv2d(channelsIn, channelsOut, 3, 1, 1)\n",
        "        self.relu2 = nn.ReLU()\n",
        "        \n",
        "    def forward(self, i):\n",
        "        izlaz = self.conv2(self.relu1(self.conv1(i)))\n",
        "        return self.relu2(izlaz) + i \n",
        "    \n",
        "\n",
        "\n",
        "simpleResnet = na_uredaj(SimpleResidualBlock(), uredaj)\n",
        "\n",
        "for slike, oznake in trainDL:\n",
        "    izlaz = simpleResnet(slike)\n",
        "    print(izlaz.shape)\n",
        "    break\n",
        "    \n",
        "del simpleResnet, slike, oznake\n",
        "torch.cuda.empty_cache()\n",
        "\n"
      ]
    },
    {
      "cell_type": "code",
      "execution_count": 8,
      "id": "32fc2f19",
      "metadata": {
        "id": "32fc2f19"
      },
      "outputs": [],
      "source": [
        "def accuracy(outputs, oznake):\n",
        "    _, preds = torch.max(outputs, dim=1)\n",
        "    return torch.tensor(torch.sum(preds == oznake).item() / len(preds))\n",
        "\n",
        "class ImageClassificationBase(nn.Module):\n",
        "    def training_step(self, batch):\n",
        "        slike, oznake = batch \n",
        "        izlaz = self(slike)\n",
        "        gubitak = func.cross_entropy(izlaz, oznake)\n",
        "        return gubitak\n",
        "    \n",
        "    def validation_step(self, batch):\n",
        "        slike, oznake = batch \n",
        "        izlaz = self(slike)\n",
        "        gubitak = func.cross_entropy(izlaz, oznake)\n",
        "        acc = accuracy(izlaz, oznake) \n",
        "        return {'val_loss': gubitak.detach(), 'val_acc': acc}\n",
        "        \n",
        "    def validation_epoch_end(self, outputs):\n",
        "        batch_losses = [x['val_loss'] for x in outputs]\n",
        "        epoch_loss = torch.stack(batch_losses).mean()\n",
        "        batch_accs = [x['val_acc'] for x in outputs]\n",
        "        epoch_acc = torch.stack(batch_accs).mean()\n",
        "        return {'val_loss': epoch_loss.item(), 'val_acc': epoch_acc.item()}\n",
        "    \n",
        "    def epoch_end(self, epoch, result):\n",
        "        print(\"Epoch [{}], last_lr: {:.5f}, train_loss: {:.4f}, val_loss: {:.4f}, val_acc: {:.4f}\".format(\n",
        "            epoch, result['lrs'][-1], result['train_loss'], result['val_loss'], result['val_acc']))\n",
        "     \n",
        "    \n",
        "    \n",
        "def convBlock(ChannelsIn, channelsOut, pool=False):\n",
        "    layers = [nn.Conv2d(ChannelsIn, channelsOut, kernel_size=3, padding=1), \n",
        "            nn.BatchNorm2d(channelsOut), \n",
        "            nn.ReLU(inplace=True)]\n",
        "    if pool: layers.append(nn.MaxPool2d(2))\n",
        "    return nn.Sequential(*layers)\n",
        "\n",
        "class ResNet9(ImageClassificationBase):\n",
        "    def __init__(self, channelsIn, numClasses, channelsOut):\n",
        "        super().__init__()\n",
        "        \n",
        "        self.conv1 = convBlock(channelsIn, channelsOut)\n",
        "        channelsIn = channelsOut\n",
        "        self.conv2 = convBlock(channelsIn, channelsOut*2, pool=True)\n",
        "        self.res1 = nn.Sequential(convBlock(channelsIn*2, channelsOut*2), convBlock(channelsIn*2, channelsOut*2))\n",
        "        \n",
        "        self.conv3 = convBlock(channelsIn*2, channelsOut*4, pool=True)\n",
        "        self.conv4 = convBlock(channelsIn*4, channelsOut*8, pool=True)\n",
        "        self.res2 = nn.Sequential(convBlock(channelsIn*8, channelsOut*8), convBlock(channelsIn*8, channelsOut*8))\n",
        "        \n",
        "        self.classifier = nn.Sequential(nn.MaxPool2d(4), \n",
        "                                        nn.Flatten(), \n",
        "                                        nn.Linear(512, numClasses))\n",
        "        \n",
        "    def forward(self, i):\n",
        "        izlaz = self.conv2(self.conv1(i))\n",
        "        izlaz = self.res1(izlaz) + izlaz\n",
        "        izlaz = self.conv4(self.conv3(izlaz))\n",
        "        izlaz = self.res2(izlaz) + izlaz\n",
        "        return self.classifier(izlaz)"
      ]
    },
    {
      "cell_type": "code",
      "execution_count": 9,
      "id": "39d36acf",
      "metadata": {
        "colab": {
          "base_uri": "https://localhost:8080/"
        },
        "id": "39d36acf",
        "outputId": "7cb9e752-9eb3-449f-9d51-74d59b189a9e"
      },
      "outputs": [
        {
          "output_type": "execute_result",
          "data": {
            "text/plain": [
              "ResNet9(\n",
              "  (conv1): Sequential(\n",
              "    (0): Conv2d(3, 64, kernel_size=(3, 3), stride=(1, 1), padding=(1, 1))\n",
              "    (1): BatchNorm2d(64, eps=1e-05, momentum=0.1, affine=True, track_running_stats=True)\n",
              "    (2): ReLU(inplace=True)\n",
              "  )\n",
              "  (conv2): Sequential(\n",
              "    (0): Conv2d(64, 128, kernel_size=(3, 3), stride=(1, 1), padding=(1, 1))\n",
              "    (1): BatchNorm2d(128, eps=1e-05, momentum=0.1, affine=True, track_running_stats=True)\n",
              "    (2): ReLU(inplace=True)\n",
              "    (3): MaxPool2d(kernel_size=2, stride=2, padding=0, dilation=1, ceil_mode=False)\n",
              "  )\n",
              "  (res1): Sequential(\n",
              "    (0): Sequential(\n",
              "      (0): Conv2d(128, 128, kernel_size=(3, 3), stride=(1, 1), padding=(1, 1))\n",
              "      (1): BatchNorm2d(128, eps=1e-05, momentum=0.1, affine=True, track_running_stats=True)\n",
              "      (2): ReLU(inplace=True)\n",
              "    )\n",
              "    (1): Sequential(\n",
              "      (0): Conv2d(128, 128, kernel_size=(3, 3), stride=(1, 1), padding=(1, 1))\n",
              "      (1): BatchNorm2d(128, eps=1e-05, momentum=0.1, affine=True, track_running_stats=True)\n",
              "      (2): ReLU(inplace=True)\n",
              "    )\n",
              "  )\n",
              "  (conv3): Sequential(\n",
              "    (0): Conv2d(128, 256, kernel_size=(3, 3), stride=(1, 1), padding=(1, 1))\n",
              "    (1): BatchNorm2d(256, eps=1e-05, momentum=0.1, affine=True, track_running_stats=True)\n",
              "    (2): ReLU(inplace=True)\n",
              "    (3): MaxPool2d(kernel_size=2, stride=2, padding=0, dilation=1, ceil_mode=False)\n",
              "  )\n",
              "  (conv4): Sequential(\n",
              "    (0): Conv2d(256, 512, kernel_size=(3, 3), stride=(1, 1), padding=(1, 1))\n",
              "    (1): BatchNorm2d(512, eps=1e-05, momentum=0.1, affine=True, track_running_stats=True)\n",
              "    (2): ReLU(inplace=True)\n",
              "    (3): MaxPool2d(kernel_size=2, stride=2, padding=0, dilation=1, ceil_mode=False)\n",
              "  )\n",
              "  (res2): Sequential(\n",
              "    (0): Sequential(\n",
              "      (0): Conv2d(512, 512, kernel_size=(3, 3), stride=(1, 1), padding=(1, 1))\n",
              "      (1): BatchNorm2d(512, eps=1e-05, momentum=0.1, affine=True, track_running_stats=True)\n",
              "      (2): ReLU(inplace=True)\n",
              "    )\n",
              "    (1): Sequential(\n",
              "      (0): Conv2d(512, 512, kernel_size=(3, 3), stride=(1, 1), padding=(1, 1))\n",
              "      (1): BatchNorm2d(512, eps=1e-05, momentum=0.1, affine=True, track_running_stats=True)\n",
              "      (2): ReLU(inplace=True)\n",
              "    )\n",
              "  )\n",
              "  (classifier): Sequential(\n",
              "    (0): MaxPool2d(kernel_size=4, stride=4, padding=0, dilation=1, ceil_mode=False)\n",
              "    (1): Flatten(start_dim=1, end_dim=-1)\n",
              "    (2): Linear(in_features=512, out_features=10, bias=True)\n",
              "  )\n",
              ")"
            ]
          },
          "metadata": {},
          "execution_count": 9
        }
      ],
      "source": [
        "model = na_uredaj(ResNet9(3, 10, 64), uredaj)\n",
        "model"
      ]
    },
    {
      "cell_type": "code",
      "execution_count": 10,
      "id": "8af80bc1",
      "metadata": {
        "id": "8af80bc1"
      },
      "outputs": [],
      "source": [
        "@torch.no_grad()\n",
        "def procijeni(model, validDL):\n",
        "    model.eval()\n",
        "    outputs = [model.validation_step(batch) for batch in validDL]\n",
        "    return model.validation_epoch_end(outputs)\n",
        "\n",
        "def get_lr(optimizer):\n",
        "    for param_group in optimizer.param_groups:\n",
        "        return param_group['lr']\n",
        "\n",
        "def customOptimizer(model, max_lr, weightDecay, opt_func):\n",
        "    return opt_func(model.parameters(), max_lr, weight_decay=weightDecay)\n",
        "\n",
        "def jedan_ciklus(train_loader, val_loader, epohe, maximalna_stopa_ucenja, model, \n",
        "                  raspadanje=0, grad_clip=None, optimalna_funkcija=torch.optim.SGD):\n",
        "    torch.cuda.empty_cache()\n",
        "    history = []\n",
        "    \n",
        "    optimizator = optimalna_funkcija(model.parameters(), maximalna_stopa_ucenja, weight_decay=raspadanje)\n",
        "    raspored = torch.optim.lr_scheduler.OneCycleLR(optimizator, maximalna_stopa_ucenja, epochs=epohe, \n",
        "                                                steps_per_epoch=len(train_loader))\n",
        "    \n",
        "    for epoha in range(epohe):\n",
        "        model.train()\n",
        "        train_losses = []\n",
        "        lrs = []\n",
        "        for batch in train_loader:\n",
        "            gubitak = model.training_step(batch)\n",
        "            train_losses.append(gubitak)\n",
        "            gubitak.backward()\n",
        "            \n",
        "            if grad_clip: \n",
        "                nn.utils.clip_grad_value_(model.parameters(), grad_clip)\n",
        "            \n",
        "            optimizator.step()\n",
        "            optimizator.zero_grad()\n",
        "            \n",
        "            lrs.append(get_lr(optimizator))\n",
        "            raspored.step()\n",
        "        \n",
        "        result = procijeni(model, val_loader)\n",
        "        result['train_loss'] = torch.stack(train_losses).mean().item()\n",
        "        result['lrs'] = lrs\n",
        "        model.epoch_end(epoha+1, result)\n",
        "        history.append(result)\n",
        "    return history\n"
      ]
    },
    {
      "cell_type": "code",
      "execution_count": 11,
      "id": "6ceb75d8",
      "metadata": {
        "id": "6ceb75d8",
        "colab": {
          "base_uri": "https://localhost:8080/"
        },
        "outputId": "5416d47a-8273-40a2-ccc3-abc81213fced"
      },
      "outputs": [
        {
          "output_type": "execute_result",
          "data": {
            "text/plain": [
              "[{'val_loss': 2.3011832237243652, 'val_acc': 0.10028846561908722}]"
            ]
          },
          "metadata": {},
          "execution_count": 11
        }
      ],
      "source": [
        "import gc\n",
        "import os\n",
        "os.environ['CUDA_VISIBLE_DEVICES']='2, 3'\n",
        "\n",
        "gc.collect()\n",
        "\n",
        "torch.cuda.empty_cache()\n",
        "history = [procijeni(model, validDL)]\n",
        "history"
      ]
    },
    {
      "cell_type": "code",
      "execution_count": 12,
      "id": "007cdcc8",
      "metadata": {
        "id": "007cdcc8",
        "outputId": "d922e0c0-9ef7-48ff-d3fa-5a98eccea62f",
        "colab": {
          "base_uri": "https://localhost:8080/"
        }
      },
      "outputs": [
        {
          "output_type": "stream",
          "name": "stdout",
          "text": [
            "Epoch [1], last_lr: 0.00073, train_loss: 1.6550, val_loss: 1.1396, val_acc: 0.5904\n",
            "Epoch [2], last_lr: 0.00178, train_loss: 1.1856, val_loss: 0.8495, val_acc: 0.7024\n",
            "Epoch [3], last_lr: 0.00334, train_loss: 1.0208, val_loss: 0.7900, val_acc: 0.7188\n",
            "Epoch [4], last_lr: 0.00512, train_loss: 0.9409, val_loss: 0.7222, val_acc: 0.7517\n",
            "Epoch [5], last_lr: 0.00684, train_loss: 0.8950, val_loss: 0.7164, val_acc: 0.7635\n",
            "Epoch [6], last_lr: 0.00817, train_loss: 0.8890, val_loss: 0.9361, val_acc: 0.7224\n",
            "Epoch [7], last_lr: 0.00891, train_loss: 0.8246, val_loss: 0.7251, val_acc: 0.7473\n",
            "Epoch [8], last_lr: 0.00898, train_loss: 0.7335, val_loss: 0.6332, val_acc: 0.7949\n",
            "Epoch [9], last_lr: 0.00884, train_loss: 0.6821, val_loss: 0.6700, val_acc: 0.7814\n",
            "Epoch [10], last_lr: 0.00855, train_loss: 0.6646, val_loss: 0.4921, val_acc: 0.8338\n",
            "Epoch [11], last_lr: 0.00814, train_loss: 0.6173, val_loss: 0.4278, val_acc: 0.8573\n",
            "Epoch [12], last_lr: 0.00761, train_loss: 0.6185, val_loss: 0.4836, val_acc: 0.8336\n",
            "Epoch [13], last_lr: 0.00698, train_loss: 0.5803, val_loss: 0.4556, val_acc: 0.8467\n",
            "Epoch [14], last_lr: 0.00627, train_loss: 0.5444, val_loss: 0.4085, val_acc: 0.8578\n",
            "Epoch [15], last_lr: 0.00550, train_loss: 0.5262, val_loss: 0.4877, val_acc: 0.8372\n",
            "Epoch [16], last_lr: 0.00470, train_loss: 0.4899, val_loss: 0.3896, val_acc: 0.8699\n",
            "Epoch [17], last_lr: 0.00390, train_loss: 0.4635, val_loss: 0.4107, val_acc: 0.8655\n",
            "Epoch [18], last_lr: 0.00311, train_loss: 0.4418, val_loss: 0.3202, val_acc: 0.8919\n",
            "Epoch [19], last_lr: 0.00237, train_loss: 0.4082, val_loss: 0.2823, val_acc: 0.9041\n",
            "Epoch [20], last_lr: 0.00169, train_loss: 0.3686, val_loss: 0.2714, val_acc: 0.9099\n",
            "Epoch [21], last_lr: 0.00111, train_loss: 0.3185, val_loss: 0.2378, val_acc: 0.9188\n",
            "Epoch [22], last_lr: 0.00064, train_loss: 0.2896, val_loss: 0.2202, val_acc: 0.9268\n",
            "Epoch [23], last_lr: 0.00029, train_loss: 0.2598, val_loss: 0.2063, val_acc: 0.9314\n",
            "Epoch [24], last_lr: 0.00007, train_loss: 0.2411, val_loss: 0.1976, val_acc: 0.9363\n",
            "Epoch [25], last_lr: 0.00000, train_loss: 0.2301, val_loss: 0.1966, val_acc: 0.9360\n",
            "CPU times: user 1min 51s, sys: 23.1 s, total: 2min 14s\n",
            "Wall time: 20min 59s\n"
          ]
        }
      ],
      "source": [
        "%%time\n",
        "history += jedan_ciklus(trainDL, validDL, 25, 0.009, model,\n",
        "                             grad_clip=0.1, \n",
        "                             raspadanje=1e-4, \n",
        "                             optimalna_funkcija=torch.optim.Adam)"
      ]
    },
    {
      "cell_type": "code",
      "execution_count": 13,
      "id": "57d259b0",
      "metadata": {
        "id": "57d259b0"
      },
      "outputs": [],
      "source": [
        "torch.save(model.state_dict(), 'zavrsni.pth')"
      ]
    },
    {
      "cell_type": "code",
      "execution_count": null,
      "id": "704b8731",
      "metadata": {
        "id": "704b8731"
      },
      "outputs": [],
      "source": [
        "model = torch.load('zavrsni.pth')\n",
        "model.eval()"
      ]
    }
  ],
  "metadata": {
    "kernelspec": {
      "display_name": "Python 3 (ipykernel)",
      "language": "python",
      "name": "python3"
    },
    "language_info": {
      "codemirror_mode": {
        "name": "ipython",
        "version": 3
      },
      "file_extension": ".py",
      "mimetype": "text/x-python",
      "name": "python",
      "nbconvert_exporter": "python",
      "pygments_lexer": "ipython3",
      "version": "3.9.7"
    },
    "colab": {
      "provenance": []
    },
    "accelerator": "GPU",
    "widgets": {
      "application/vnd.jupyter.widget-state+json": {
        "9ffd5b20ff4a4f45a74e9ba90c1f2b0c": {
          "model_module": "@jupyter-widgets/controls",
          "model_name": "HBoxModel",
          "model_module_version": "1.5.0",
          "state": {
            "_dom_classes": [],
            "_model_module": "@jupyter-widgets/controls",
            "_model_module_version": "1.5.0",
            "_model_name": "HBoxModel",
            "_view_count": null,
            "_view_module": "@jupyter-widgets/controls",
            "_view_module_version": "1.5.0",
            "_view_name": "HBoxView",
            "box_style": "",
            "children": [
              "IPY_MODEL_8f0e69df36b4415aaaf9a9378f94245b",
              "IPY_MODEL_094675347ae140618df1c38246dbd6a3",
              "IPY_MODEL_5a8491393b89414a91f879c09b83fa62"
            ],
            "layout": "IPY_MODEL_e7185bb406324d9f83c107ab34dda3ab"
          }
        },
        "8f0e69df36b4415aaaf9a9378f94245b": {
          "model_module": "@jupyter-widgets/controls",
          "model_name": "HTMLModel",
          "model_module_version": "1.5.0",
          "state": {
            "_dom_classes": [],
            "_model_module": "@jupyter-widgets/controls",
            "_model_module_version": "1.5.0",
            "_model_name": "HTMLModel",
            "_view_count": null,
            "_view_module": "@jupyter-widgets/controls",
            "_view_module_version": "1.5.0",
            "_view_name": "HTMLView",
            "description": "",
            "description_tooltip": null,
            "layout": "IPY_MODEL_878dc8db8cb64a869a89c21325bc8253",
            "placeholder": "​",
            "style": "IPY_MODEL_ab5440ef0cae4fd99a533a919f87141e",
            "value": "100%"
          }
        },
        "094675347ae140618df1c38246dbd6a3": {
          "model_module": "@jupyter-widgets/controls",
          "model_name": "FloatProgressModel",
          "model_module_version": "1.5.0",
          "state": {
            "_dom_classes": [],
            "_model_module": "@jupyter-widgets/controls",
            "_model_module_version": "1.5.0",
            "_model_name": "FloatProgressModel",
            "_view_count": null,
            "_view_module": "@jupyter-widgets/controls",
            "_view_module_version": "1.5.0",
            "_view_name": "ProgressView",
            "bar_style": "success",
            "description": "",
            "description_tooltip": null,
            "layout": "IPY_MODEL_5f9ac807ca024de0864f5b5b2357c9e0",
            "max": 135107811,
            "min": 0,
            "orientation": "horizontal",
            "style": "IPY_MODEL_6eec6776ee524f34bdfe2b72b70fe53a",
            "value": 135107811
          }
        },
        "5a8491393b89414a91f879c09b83fa62": {
          "model_module": "@jupyter-widgets/controls",
          "model_name": "HTMLModel",
          "model_module_version": "1.5.0",
          "state": {
            "_dom_classes": [],
            "_model_module": "@jupyter-widgets/controls",
            "_model_module_version": "1.5.0",
            "_model_name": "HTMLModel",
            "_view_count": null,
            "_view_module": "@jupyter-widgets/controls",
            "_view_module_version": "1.5.0",
            "_view_name": "HTMLView",
            "description": "",
            "description_tooltip": null,
            "layout": "IPY_MODEL_066ffe035e764b9496e552500b8ab52d",
            "placeholder": "​",
            "style": "IPY_MODEL_3edfe6abc0c24bfd9197d8a2d5a2982c",
            "value": " 135107811/135107811 [00:02&lt;00:00, 53271946.82it/s]"
          }
        },
        "e7185bb406324d9f83c107ab34dda3ab": {
          "model_module": "@jupyter-widgets/base",
          "model_name": "LayoutModel",
          "model_module_version": "1.2.0",
          "state": {
            "_model_module": "@jupyter-widgets/base",
            "_model_module_version": "1.2.0",
            "_model_name": "LayoutModel",
            "_view_count": null,
            "_view_module": "@jupyter-widgets/base",
            "_view_module_version": "1.2.0",
            "_view_name": "LayoutView",
            "align_content": null,
            "align_items": null,
            "align_self": null,
            "border": null,
            "bottom": null,
            "display": null,
            "flex": null,
            "flex_flow": null,
            "grid_area": null,
            "grid_auto_columns": null,
            "grid_auto_flow": null,
            "grid_auto_rows": null,
            "grid_column": null,
            "grid_gap": null,
            "grid_row": null,
            "grid_template_areas": null,
            "grid_template_columns": null,
            "grid_template_rows": null,
            "height": null,
            "justify_content": null,
            "justify_items": null,
            "left": null,
            "margin": null,
            "max_height": null,
            "max_width": null,
            "min_height": null,
            "min_width": null,
            "object_fit": null,
            "object_position": null,
            "order": null,
            "overflow": null,
            "overflow_x": null,
            "overflow_y": null,
            "padding": null,
            "right": null,
            "top": null,
            "visibility": null,
            "width": null
          }
        },
        "878dc8db8cb64a869a89c21325bc8253": {
          "model_module": "@jupyter-widgets/base",
          "model_name": "LayoutModel",
          "model_module_version": "1.2.0",
          "state": {
            "_model_module": "@jupyter-widgets/base",
            "_model_module_version": "1.2.0",
            "_model_name": "LayoutModel",
            "_view_count": null,
            "_view_module": "@jupyter-widgets/base",
            "_view_module_version": "1.2.0",
            "_view_name": "LayoutView",
            "align_content": null,
            "align_items": null,
            "align_self": null,
            "border": null,
            "bottom": null,
            "display": null,
            "flex": null,
            "flex_flow": null,
            "grid_area": null,
            "grid_auto_columns": null,
            "grid_auto_flow": null,
            "grid_auto_rows": null,
            "grid_column": null,
            "grid_gap": null,
            "grid_row": null,
            "grid_template_areas": null,
            "grid_template_columns": null,
            "grid_template_rows": null,
            "height": null,
            "justify_content": null,
            "justify_items": null,
            "left": null,
            "margin": null,
            "max_height": null,
            "max_width": null,
            "min_height": null,
            "min_width": null,
            "object_fit": null,
            "object_position": null,
            "order": null,
            "overflow": null,
            "overflow_x": null,
            "overflow_y": null,
            "padding": null,
            "right": null,
            "top": null,
            "visibility": null,
            "width": null
          }
        },
        "ab5440ef0cae4fd99a533a919f87141e": {
          "model_module": "@jupyter-widgets/controls",
          "model_name": "DescriptionStyleModel",
          "model_module_version": "1.5.0",
          "state": {
            "_model_module": "@jupyter-widgets/controls",
            "_model_module_version": "1.5.0",
            "_model_name": "DescriptionStyleModel",
            "_view_count": null,
            "_view_module": "@jupyter-widgets/base",
            "_view_module_version": "1.2.0",
            "_view_name": "StyleView",
            "description_width": ""
          }
        },
        "5f9ac807ca024de0864f5b5b2357c9e0": {
          "model_module": "@jupyter-widgets/base",
          "model_name": "LayoutModel",
          "model_module_version": "1.2.0",
          "state": {
            "_model_module": "@jupyter-widgets/base",
            "_model_module_version": "1.2.0",
            "_model_name": "LayoutModel",
            "_view_count": null,
            "_view_module": "@jupyter-widgets/base",
            "_view_module_version": "1.2.0",
            "_view_name": "LayoutView",
            "align_content": null,
            "align_items": null,
            "align_self": null,
            "border": null,
            "bottom": null,
            "display": null,
            "flex": null,
            "flex_flow": null,
            "grid_area": null,
            "grid_auto_columns": null,
            "grid_auto_flow": null,
            "grid_auto_rows": null,
            "grid_column": null,
            "grid_gap": null,
            "grid_row": null,
            "grid_template_areas": null,
            "grid_template_columns": null,
            "grid_template_rows": null,
            "height": null,
            "justify_content": null,
            "justify_items": null,
            "left": null,
            "margin": null,
            "max_height": null,
            "max_width": null,
            "min_height": null,
            "min_width": null,
            "object_fit": null,
            "object_position": null,
            "order": null,
            "overflow": null,
            "overflow_x": null,
            "overflow_y": null,
            "padding": null,
            "right": null,
            "top": null,
            "visibility": null,
            "width": null
          }
        },
        "6eec6776ee524f34bdfe2b72b70fe53a": {
          "model_module": "@jupyter-widgets/controls",
          "model_name": "ProgressStyleModel",
          "model_module_version": "1.5.0",
          "state": {
            "_model_module": "@jupyter-widgets/controls",
            "_model_module_version": "1.5.0",
            "_model_name": "ProgressStyleModel",
            "_view_count": null,
            "_view_module": "@jupyter-widgets/base",
            "_view_module_version": "1.2.0",
            "_view_name": "StyleView",
            "bar_color": null,
            "description_width": ""
          }
        },
        "066ffe035e764b9496e552500b8ab52d": {
          "model_module": "@jupyter-widgets/base",
          "model_name": "LayoutModel",
          "model_module_version": "1.2.0",
          "state": {
            "_model_module": "@jupyter-widgets/base",
            "_model_module_version": "1.2.0",
            "_model_name": "LayoutModel",
            "_view_count": null,
            "_view_module": "@jupyter-widgets/base",
            "_view_module_version": "1.2.0",
            "_view_name": "LayoutView",
            "align_content": null,
            "align_items": null,
            "align_self": null,
            "border": null,
            "bottom": null,
            "display": null,
            "flex": null,
            "flex_flow": null,
            "grid_area": null,
            "grid_auto_columns": null,
            "grid_auto_flow": null,
            "grid_auto_rows": null,
            "grid_column": null,
            "grid_gap": null,
            "grid_row": null,
            "grid_template_areas": null,
            "grid_template_columns": null,
            "grid_template_rows": null,
            "height": null,
            "justify_content": null,
            "justify_items": null,
            "left": null,
            "margin": null,
            "max_height": null,
            "max_width": null,
            "min_height": null,
            "min_width": null,
            "object_fit": null,
            "object_position": null,
            "order": null,
            "overflow": null,
            "overflow_x": null,
            "overflow_y": null,
            "padding": null,
            "right": null,
            "top": null,
            "visibility": null,
            "width": null
          }
        },
        "3edfe6abc0c24bfd9197d8a2d5a2982c": {
          "model_module": "@jupyter-widgets/controls",
          "model_name": "DescriptionStyleModel",
          "model_module_version": "1.5.0",
          "state": {
            "_model_module": "@jupyter-widgets/controls",
            "_model_module_version": "1.5.0",
            "_model_name": "DescriptionStyleModel",
            "_view_count": null,
            "_view_module": "@jupyter-widgets/base",
            "_view_module_version": "1.2.0",
            "_view_name": "StyleView",
            "description_width": ""
          }
        }
      }
    }
  },
  "nbformat": 4,
  "nbformat_minor": 5
}